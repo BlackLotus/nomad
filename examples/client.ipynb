{
 "cells": [
  {
   "cell_type": "code",
   "execution_count": 1,
   "metadata": {
    "ExecuteTime": {
     "end_time": "2020-04-07T16:02:49.442840Z",
     "start_time": "2020-04-07T16:02:49.414197Z"
    }
   },
   "outputs": [],
   "source": [
    "from nomad import config\n",
    "# this will not be necessary, once this is the official NOMAD version\n",
    "config.client.url = 'http://labdev-nomad.esc.rzg.mpg.de/fairdi/nomad/testing-major/api'"
   ]
  },
  {
   "cell_type": "code",
   "execution_count": 2,
   "metadata": {
    "ExecuteTime": {
     "end_time": "2020-04-07T16:02:51.148955Z",
     "start_time": "2020-04-07T16:02:49.788395Z"
    }
   },
   "outputs": [],
   "source": [
    "import matplotlib.pyplot as plt\n",
    "\n",
    "from nomad.client import query_archive\n",
    "from nomad.metainfo import units"
   ]
  },
  {
   "cell_type": "code",
   "execution_count": 3,
   "metadata": {
    "ExecuteTime": {
     "end_time": "2020-04-07T16:02:55.371271Z",
     "start_time": "2020-04-07T16:02:51.150679Z"
    }
   },
   "outputs": [
    {
     "name": "stdout",
     "output_type": "stream",
     "text": [
      "total 2398\n",
      "-4.506215193227115e-18 joule\n",
      "-5.8515279132483456e-18 joule\n",
      "-4.251737530685669e-18 joule\n",
      "-3.2217721980540896e-18 joule\n",
      "-4.437416946700958e-18 joule\n",
      "Number queries entries: 2398\n",
      "Number of entries loaded in the last api call: 100\n",
      "Bytes loaded in the last api call: 34531\n",
      "Bytes loaded from this query: 345235\n",
      "Number of downloaded entries: 1000\n",
      "Number of made api calls: 10\n",
      "\n"
     ]
    }
   ],
   "source": [
    "aq = query_archive(\n",
    "    query={\n",
    "        'upload_id': ['b5rGMO6dT4Gzqn3JaLjPpw']\n",
    "    },\n",
    "    required={\n",
    "        'section_run': {\n",
    "            'section_single_configuration_calculation[0]': {\n",
    "                'energy_total': '*'\n",
    "            }          \n",
    "        }\n",
    "    }, \n",
    "    per_page=100, max=1000)\n",
    "\n",
    "print('total', aq.total)\n",
    "\n",
    "for i, e in enumerate(aq):\n",
    "    if i % 200 == 0:\n",
    "        print(e.section_run[0].section_single_configuration_calculation[0].energy_total)\n",
    "        \n",
    "print(aq)"
   ]
  },
  {
   "cell_type": "code",
   "execution_count": 4,
   "metadata": {
    "ExecuteTime": {
     "end_time": "2020-04-07T16:02:55.379162Z",
     "start_time": "2020-04-07T16:02:55.373328Z"
    }
   },
   "outputs": [
    {
     "data": {
      "text/plain": [
       "{'section_run': [{'section_single_configuration_calculation': [{'energy_total': -4.506215193227115e-18}]}]}"
      ]
     },
     "execution_count": 4,
     "metadata": {},
     "output_type": "execute_result"
    }
   ],
   "source": [
    "aq[0].m_to_dict()"
   ]
  },
  {
   "cell_type": "code",
   "execution_count": 5,
   "metadata": {
    "ExecuteTime": {
     "end_time": "2020-04-07T16:02:56.680987Z",
     "start_time": "2020-04-07T16:02:55.381150Z"
    }
   },
   "outputs": [],
   "source": [
    "aq = query_archive(\n",
    "    query={\n",
    "        'dft.quantities': ['section_dos']\n",
    "    },\n",
    "    per_page=1)\n",
    "entry = aq[0]"
   ]
  },
  {
   "cell_type": "code",
   "execution_count": 6,
   "metadata": {
    "ExecuteTime": {
     "end_time": "2020-04-07T16:02:56.686165Z",
     "start_time": "2020-04-07T16:02:56.682662Z"
    }
   },
   "outputs": [],
   "source": [
    "run = entry.section_run[0]\n",
    "dos = next(\n",
    "    scc.section_dos[0] \n",
    "    for scc in run.section_single_configuration_calculation\n",
    "    if len(scc.section_dos) > 0)"
   ]
  },
  {
   "cell_type": "code",
   "execution_count": 7,
   "metadata": {
    "ExecuteTime": {
     "end_time": "2020-04-07T16:02:56.927561Z",
     "start_time": "2020-04-07T16:02:56.687981Z"
    }
   },
   "outputs": [
    {
     "data": {
      "text/plain": [
       "[<matplotlib.lines.Line2D at 0x1157d5898>]"
      ]
     },
     "execution_count": 7,
     "metadata": {},
     "output_type": "execute_result"
    },
    {
     "data": {
      "image/png": "[encoded data removed]",
      "text/plain": [
       "<Figure size 432x288 with 1 Axes>"
      ]
     },
     "metadata": {
      "needs_background": "light"
     },
     "output_type": "display_data"
    }
   ],
   "source": [
    "plt.plot(dos.dos_energies.to(units.hartree).m, dos.dos_values[0])"
   ]
  },
  {
   "cell_type": "code",
   "execution_count": 8,
   "metadata": {
    "ExecuteTime": {
     "end_time": "2020-04-07T16:02:56.933874Z",
     "start_time": "2020-04-07T16:02:56.929657Z"
    }
   },
   "outputs": [
    {
     "data": {
      "text/plain": [
       "'Al6Si40Sr8'"
      ]
     },
     "execution_count": 8,
     "metadata": {},
     "output_type": "execute_result"
    }
   ],
   "source": [
    "next(system for system in run.section_system if system.is_representative).chemical_composition_bulk_reduced"
   ]
  },
  {
   "cell_type": "code",
   "execution_count": null,
   "metadata": {},
   "outputs": [],
   "source": []
  }
 ],
 "metadata": {
  "file_extension": ".py",
  "kernelspec": {
   "display_name": "Python 3.6.3 64-bit ('.pyenv': virtualenv)",
   "language": "python",
   "name": "python36364bitpyenvvirtualenv11a6404af23a4e178b049a429667c260"
  },
  "language_info": {
   "codemirror_mode": {
    "name": "ipython",
    "version": 3
   },
   "file_extension": ".py",
   "mimetype": "text/x-python",
   "name": "python",
   "nbconvert_exporter": "python",
   "pygments_lexer": "ipython3",
   "version": "3.6.3"
  },
  "mimetype": "text/x-python",
  "name": "python",
  "npconvert_exporter": "python",
  "pygments_lexer": "ipython3",
  "version": 3
 },
 "nbformat": 4,
 "nbformat_minor": 2
}

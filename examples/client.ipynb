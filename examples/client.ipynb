{
 "cells": [
  {
   "cell_type": "code",
   "execution_count": 37,
   "metadata": {
    "ExecuteTime": {
     "end_time": "2020-04-07T15:27:58.650077Z",
     "start_time": "2020-04-07T15:27:58.646927Z"
    }
   },
   "outputs": [],
   "source": [
    "from nomad import config\n",
    "from nomad.metainfo import units\n",
    "# this will not be necessary, once this is the official NOMAD version\n",
    "config.keycloak.realm_name = 'fairdi_nomad_prod'\n",
    "config.client.url = 'http://labdev-nomad.esc.rzg.mpg.de/dev/nomad/v0-8-0/api'"
   ]
  },
  {
   "cell_type": "code",
   "execution_count": 38,
   "metadata": {
    "ExecuteTime": {
     "end_time": "2020-04-07T15:27:59.700662Z",
     "start_time": "2020-04-07T15:27:59.697949Z"
    }
   },
   "outputs": [],
   "source": [
    "from nomad.client import query_archive\n",
    "import matplotlib.pyplot as plt"
   ]
  },
  {
   "cell_type": "code",
   "execution_count": 39,
   "metadata": {
    "ExecuteTime": {
     "end_time": "2020-04-07T15:29:18.211275Z",
     "start_time": "2020-04-07T15:28:00.888081Z"
    }
   },
   "outputs": [
    {
     "name": "stdout",
     "output_type": "stream",
     "text": [
      "total 2398\n",
      "-6.3339730261331896e-18 joule\n",
      "-4.659124213884504e-18 joule\n",
      "-3.565286105415546e-18 joule\n",
      "-5.224154429803029e-18 joule\n",
      "-5.101457492113138e-18 joule\n",
      "-3.633056874464142e-18 joule\n",
      "-3.624966508913506e-18 joule\n",
      "-3.3598866411664673e-18 joule\n",
      "-3.468433199685816e-18 joule\n",
      "-4.36251215133456e-18 joule\n",
      "-4.958605717107583e-18 joule\n",
      "-4.3751765068705374e-18 joule\n",
      "Number queries entries: 2398\n",
      "Number of entries loaded in the last api call: 98\n",
      "Bytes loaded in the last api call: 33836\n",
      "Bytes loaded from this query: 827857\n",
      "Number of downloaded entries: 2398\n",
      "\n"
     ]
    }
   ],
   "source": [
    "aq = query_archive(\n",
    "    query=dict(\n",
    "        upload_id=['6LUBCju3T3KK3D_fRCJ4qw']\n",
    "    ),\n",
    "    query_schema={\n",
    "        'section_run': {\n",
    "            'section_single_configuration_calculation[0]': {\n",
    "                'energy_total': '*'\n",
    "            }          \n",
    "        }\n",
    "    }, \n",
    "    per_page=100)\n",
    "\n",
    "print('total', len(aq))\n",
    "\n",
    "for i, e in enumerate(aq):\n",
    "    if i % 200 == 0:\n",
    "        print(e.section_run[0].section_single_configuration_calculation[0].energy_total)\n",
    "\n",
    "print(aq)"
   ]
  },
  {
   "cell_type": "code",
   "execution_count": 40,
   "metadata": {
    "ExecuteTime": {
     "end_time": "2020-04-07T15:29:38.124931Z",
     "start_time": "2020-04-07T15:29:38.120548Z"
    }
   },
   "outputs": [
    {
     "data": {
      "text/plain": [
       "{'section_run': [{'section_single_configuration_calculation': [{'energy_total': -6.3339730261331896e-18}]}]}"
      ]
     },
     "execution_count": 40,
     "metadata": {},
     "output_type": "execute_result"
    }
   ],
   "source": [
    "aq[0].m_to_dict()"
   ]
  },
  {
   "cell_type": "code",
   "execution_count": 41,
   "metadata": {
    "ExecuteTime": {
     "end_time": "2020-04-07T15:29:42.994901Z",
     "start_time": "2020-04-07T15:29:42.698281Z"
    }
   },
   "outputs": [],
   "source": [
    "aq = query_archive(\n",
    "    query=dict(\n",
    "        quantities=['section_dos']\n",
    "    ),\n",
    "    per_page=1)\n",
    "entry = aq[0]"
   ]
  },
  {
   "cell_type": "code",
   "execution_count": 42,
   "metadata": {
    "ExecuteTime": {
     "end_time": "2020-04-07T15:29:44.643741Z",
     "start_time": "2020-04-07T15:29:44.457754Z"
    }
   },
   "outputs": [
    {
     "data": {
      "text/plain": [
       "[<matplotlib.lines.Line2D at 0x11b854d68>]"
      ]
     },
     "execution_count": 42,
     "metadata": {},
     "output_type": "execute_result"
    },
    {
     "data": {
      "image/png": "[encoded data removed]",
      "text/plain": [
       "<Figure size 432x288 with 1 Axes>"
      ]
     },
     "metadata": {
      "needs_background": "light"
     },
     "output_type": "display_data"
    }
   ],
   "source": [
    "run = entry.section_run[0]\n",
    "dos = run.section_single_configuration_calculation[-1].section_dos[0]\n",
    "plt.plot(dos.dos_energies.to(units.hartree).m, dos.dos_values[0])"
   ]
  },
  {
   "cell_type": "code",
   "execution_count": 43,
   "metadata": {
    "ExecuteTime": {
     "end_time": "2020-04-07T15:29:52.467588Z",
     "start_time": "2020-04-07T15:29:52.463355Z"
    }
   },
   "outputs": [
    {
     "data": {
      "text/plain": [
       "'O3SrTi'"
      ]
     },
     "execution_count": 43,
     "metadata": {},
     "output_type": "execute_result"
    }
   ],
   "source": [
    "next(system for system in run.section_system if system.is_representative).chemical_composition_bulk_reduced"
   ]
  },
  {
   "cell_type": "code",
   "execution_count": null,
   "metadata": {},
   "outputs": [],
   "source": []
  }
 ],
 "metadata": {
  "file_extension": ".py",
  "kernelspec": {
   "display_name": "Python 3.6.3 64-bit ('.pyenv': virtualenv)",
   "language": "python",
   "name": "python36364bitpyenvvirtualenv11a6404af23a4e178b049a429667c260"
  },
  "language_info": {
   "codemirror_mode": {
    "name": "ipython",
    "version": 3
   },
   "file_extension": ".py",
   "mimetype": "text/x-python",
   "name": "python",
   "nbconvert_exporter": "python",
   "pygments_lexer": "ipython3",
   "version": "3.6.3"
  },
  "mimetype": "text/x-python",
  "name": "python",
  "npconvert_exporter": "python",
  "pygments_lexer": "ipython3",
  "version": 3
 },
 "nbformat": 4,
 "nbformat_minor": 2
}

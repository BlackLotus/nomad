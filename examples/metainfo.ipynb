{
 "cells": [
  {
   "cell_type": "markdown",
   "metadata": {},
   "source": [
    "# NOMAD Metainfo 2.0 demonstration\n",
    "\n",
    "You can find more complete documentation [here](https://labdev-nomad.esc.rzg.mpg.de/fairdi/nomad/testing/docs/metainfo.html)"
   ]
  },
  {
   "cell_type": "code",
   "execution_count": 2,
   "metadata": {},
   "outputs": [],
   "source": [
    "from nomad.metainfo import MSection, SubSection, Quantity, Datetime, units\n",
    "import numpy as np\n",
    "import datetime"
   ]
  },
  {
   "cell_type": "markdown",
   "metadata": {},
   "source": [
    "## Sections and quantities\n",
    "\n",
    "To define sections and their quantities, we use Python classes and attributes. Quantities have *type*, *shape*, and *unit*."
   ]
  },
  {
   "cell_type": "code",
   "execution_count": 3,
   "metadata": {},
   "outputs": [],
   "source": [
    "class System(MSection):\n",
    "    \"\"\" The simulated system \"\"\"\n",
    "    number_of_atoms = Quantity(type=int, derived=lambda system: len(system.atom_labels))\n",
    "    atom_labels = Quantity(type=str, shape=['number_of_atoms'])\n",
    "    atom_positions = Quantity(type=np.dtype(np.float64), shape=['number_of_atoms', 3], unit=units.m)"
   ]
  },
  {
   "cell_type": "markdown",
   "metadata": {},
   "source": [
    "Such *section classes* can then be instantiated like regular Python classes. Respectively, *section instances* are just regular Python object and section quantities can be get and set like regular Python object attributes."
   ]
  },
  {
   "cell_type": "code",
   "execution_count": 4,
   "metadata": {},
   "outputs": [],
   "source": [
    "system = System()\n",
    "system.atom_labels = ['H', 'H', '0']\n",
    "system.atom_positions = np.array([[6, 0, 0], [0, 0, 0], [3, 2, 0]]) * units.angstrom"
   ]
  },
  {
   "cell_type": "markdown",
   "metadata": {},
   "source": [
    "Of course the metainfo is not just about dealing with physics data in Python. Its also about storing and managing data in various fileformats and databases. Therefore, the created data can be serialized, e.g. to JSON. All *section \n",
    "instances* have a set of additional `m_`-methods that provide addtional functions. Note the unit conversion."
   ]
  },
  {
   "cell_type": "code",
   "execution_count": 5,
   "metadata": {},
   "outputs": [
    {
     "data": {
      "text/plain": [
       "'{\"atom_labels\": [\"H\", \"H\", \"0\"], \"atom_positions\": [[6e-10, 0.0, 0.0], [0.0, 0.0, 0.0], [3e-10, 2e-10, 0.0]]}'"
      ]
     },
     "execution_count": 5,
     "metadata": {},
     "output_type": "execute_result"
    }
   ],
   "source": [
    "system.m_to_json()"
   ]
  },
  {
   "cell_type": "markdown",
   "metadata": {},
   "source": [
    "## Sub-sections to form hiearchies of data\n",
    "\n",
    "*Section instances* can be nested to form data hierarchies. To achive this, we first have to create *section \n",
    "definitions* that have sub-sections."
   ]
  },
  {
   "cell_type": "code",
   "execution_count": 6,
   "metadata": {},
   "outputs": [],
   "source": [
    "class Run(MSection):\n",
    "    timestamp = Quantity(type=Datetime, description='The time that this run was conducted.')\n",
    "    systems = SubSection(sub_section=System, repeats=True)"
   ]
  },
  {
   "cell_type": "markdown",
   "metadata": {},
   "source": [
    "Now we can add *section instances* for `System` to *instances* of `Run`."
   ]
  },
  {
   "cell_type": "code",
   "execution_count": 7,
   "metadata": {},
   "outputs": [
    {
     "data": {
      "text/plain": [
       "'{\"timestamp\": \"2019-10-09T14:48:43.663363\", \"systems\": [{\"atom_labels\": [\"H\", \"H\", \"0\"], \"atom_positions\": [[6e-10, 0.0, 0.0], [0.0, 0.0, 0.0], [3e-10, 2e-10, 0.0]]}, {\"atom_labels\": [\"H\", \"H\", \"0\"], \"atom_positions\": [[5e-10, 0.0, 0.0], [0.0, 0.0, 0.0], [2.5e-10, 2e-10, 0.0]]}]}'"
      ]
     },
     "execution_count": 7,
     "metadata": {},
     "output_type": "execute_result"
    }
   ],
   "source": [
    "run = Run()\n",
    "run.timestamp = datetime.datetime.now()\n",
    "\n",
    "system = run.m_create(System)\n",
    "system.atom_labels = ['H', 'H', '0']\n",
    "system.atom_positions = np.array([[6, 0, 0], [0, 0, 0], [3, 2, 0]]) * units.angstrom\n",
    "\n",
    "system = run.m_create(System)\n",
    "system.atom_labels = ['H', 'H', '0']\n",
    "system.atom_positions = np.array([[5, 0, 0], [0, 0, 0], [2.5, 2, 0]]) * units.angstrom\n",
    "run.m_to_json()"
   ]
  },
  {
   "cell_type": "markdown",
   "metadata": {},
   "source": [
    "The whole data hiearchy can be navigated with regular Python object/attribute style programming and values can be\n",
    "used for calculations as usual."
   ]
  },
  {
   "cell_type": "code",
   "execution_count": 8,
   "metadata": {},
   "outputs": [
    {
     "data": {
      "text/html": [
       "[[-1.   0.   0. ] [ 0.   0.   0. ] [-0.5  0.   0. ]] angstrom"
      ],
      "text/latex": [
       "$[[-1.   0.   0. ] [ 0.   0.   0. ] [-0.5  0.   0. ]] angstrom$"
      ],
      "text/plain": [
       "<Quantity([[-1.   0.   0. ]\n",
       " [ 0.   0.   0. ]\n",
       " [-0.5  0.   0. ]], 'angstrom')>"
      ]
     },
     "execution_count": 8,
     "metadata": {},
     "output_type": "execute_result"
    }
   ],
   "source": [
    "(run.systems[1].atom_positions - run.systems[0].atom_positions).to(units.angstrom)"
   ]
  },
  {
   "cell_type": "markdown",
   "metadata": {},
   "source": [
    "## Reflection, inspection, and code-completion\n",
    "\n",
    "Since all definitions are available as *section classes*, Python already knows about all possible quantities. We can \n",
    "use this in Python notebooks, via *tab* or the `?`-operator. Furthermore, you can access the *section definition* of all *section instances* with `m_def`. Since a *section defintion* itself is just a piece of metainfo data, you can use it to programatically explore the definition itselve."
   ]
  },
  {
   "cell_type": "code",
   "execution_count": 9,
   "metadata": {},
   "outputs": [
    {
     "data": {
      "text/plain": [
       "[number_of_atoms:Quantity, atom_labels:Quantity, atom_positions:Quantity]"
      ]
     },
     "execution_count": 9,
     "metadata": {},
     "output_type": "execute_result"
    }
   ],
   "source": [
    "run.systems[0].m_def.quantities"
   ]
  },
  {
   "cell_type": "code",
   "execution_count": 10,
   "metadata": {},
   "outputs": [
    {
     "data": {
      "text/plain": [
       "'The time that this run was conducted.'"
      ]
     },
     "execution_count": 10,
     "metadata": {},
     "output_type": "execute_result"
    }
   ],
   "source": [
    "run.m_def.all_quantities['timestamp'].description"
   ]
  },
  {
   "cell_type": "code",
   "execution_count": 11,
   "metadata": {},
   "outputs": [
    {
     "data": {
      "text/plain": [
       "['number_of_atoms']"
      ]
     },
     "execution_count": 11,
     "metadata": {},
     "output_type": "execute_result"
    }
   ],
   "source": [
    "System.atom_labels.shape"
   ]
  },
  {
   "cell_type": "code",
   "execution_count": 32,
   "metadata": {},
   "outputs": [],
   "source": [
    "t = np.dtype(np.i64)"
   ]
  },
  {
   "cell_type": "code",
   "execution_count": 33,
   "metadata": {},
   "outputs": [
    {
     "data": {
      "text/plain": [
       "numpy.int64"
      ]
     },
     "execution_count": 33,
     "metadata": {},
     "output_type": "execute_result"
    }
   ],
   "source": [
    "t.type"
   ]
  },
  {
   "cell_type": "code",
   "execution_count": null,
   "metadata": {},
   "outputs": [],
   "source": []
  }
 ],
 "metadata": {
  "kernelspec": {
   "display_name": ".venv",
   "language": "python",
   "name": ".venv"
  },
  "language_info": {
   "codemirror_mode": {
    "name": "ipython",
    "version": 3
   },
   "file_extension": ".py",
   "mimetype": "text/x-python",
   "name": "python",
   "nbconvert_exporter": "python",
   "pygments_lexer": "ipython3",
   "version": "3.6.3"
  }
 },
 "nbformat": 4,
 "nbformat_minor": 2
}
